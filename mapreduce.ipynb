{
 "cells": [
  {
   "cell_type": "markdown",
   "metadata": {},
   "source": [
    "# Map + Reduce in Python\n",
    "\n",
    "We can learn about the basic principles of Spark by practicing much of them in basic Python. The ideas we're going to cover here are: \n",
    "\n",
    "1. Laziness\n",
    "2. The functions `map` and `reduce`\n",
    "\n",
    "For some, this will be a short review. For others, this will be a challenge in-and-of-itself. That's OK, because it's best to understand the principles here before moving on to Spark."
   ]
  },
  {
   "cell_type": "markdown",
   "metadata": {},
   "source": [
    "## Map"
   ]
  },
  {
   "cell_type": "code",
   "execution_count": null,
   "metadata": {},
   "outputs": [],
   "source": [
    "def squarer(a):\n",
    "    return a**2\n",
    "\n",
    "ages = [13,14,15]\n",
    "\n",
    "# We learned to map with list comprehensions\n",
    "[squarer(a) for a in ages]"
   ]
  },
  {
   "cell_type": "code",
   "execution_count": null,
   "metadata": {},
   "outputs": [],
   "source": [
    "# Now we introduce a new function: map\n",
    "# what does it return?\n",
    "\n",
    "map(squarer, ages)"
   ]
  },
  {
   "cell_type": "code",
   "execution_count": null,
   "metadata": {},
   "outputs": [],
   "source": [
    "# the map function returns an instance of the \"map\"\n",
    "# class. That's not very helpful. What can we do with that\n",
    "# class?\n",
    "# Well, it's an iterable, so we can iterate over it: \n",
    "\n",
    "for i in map(squarer, ages):\n",
    "    print(i)"
   ]
  },
  {
   "cell_type": "markdown",
   "metadata": {},
   "source": [
    "**`map` is lazy**\n",
    "\n",
    "So why did map not just return a list? The key is that map is LAZY. Laziness is a fundamental concept in much of computer science and functional programming and Spark is based around this concept. \n",
    "\n",
    "Laziness means that Python will avoid doing the work until it has to. This means the work of multiplying the numbers isn't actually done until you try to access the result! Then Python goes and does the work. Lazy!\n",
    "\n",
    "Let's see what laziness can accomplish"
   ]
  },
  {
   "cell_type": "code",
   "execution_count": null,
   "metadata": {},
   "outputs": [],
   "source": [
    "# I'm going to create a function that returns a \"generator\". \n",
    "# This is also a new concept, but for now, all you need\n",
    "# to know is that a generator is a lazy iterable. It's like \n",
    "# a list, but it doesn't store the value until someone demands\n",
    "# to see the value. \n",
    "#\n",
    "# Using a generator, we can create an infinite iterable of numbers: \n",
    "\n",
    "def ages():\n",
    "    prev = 0\n",
    "    while True:\n",
    "        prev += 1\n",
    "        yield prev\n",
    "\n",
    "\n",
    "ages_genny = ages()\n",
    "ages_genny"
   ]
  },
  {
   "cell_type": "code",
   "execution_count": null,
   "metadata": {},
   "outputs": [],
   "source": [
    "# try to print out all the ages in ages:\n",
    "# (hint: dont forget how to interrupt your kernel!)\n",
    "\n",
    "for i in ages_genny:\n",
    "    print(i**2)"
   ]
  },
  {
   "cell_type": "code",
   "execution_count": null,
   "metadata": {},
   "outputs": [],
   "source": [
    "# So we can't square everything in our infinite iterable.\n",
    "# But we can map it: \n",
    "\n",
    "squared_ages = map(squarer, ages())"
   ]
  },
  {
   "cell_type": "code",
   "execution_count": null,
   "metadata": {},
   "outputs": [],
   "source": [
    "# now we have an infinite iterable of squared numbers.\n",
    "# how can we look at the first few numbers? \n",
    "#\n",
    "#\n",
    "from itertools import islice\n",
    "\n",
    "# this is kinda like \"head\" in the command line!\n",
    "# here we tell it to just get the first few items\n",
    "# and then we print them out.\n",
    "for i in islice(squared_ages, 0, 10):\n",
    "    print(i)"
   ]
  },
  {
   "cell_type": "markdown",
   "metadata": {},
   "source": [
    "## Reduce"
   ]
  },
  {
   "cell_type": "code",
   "execution_count": null,
   "metadata": {},
   "outputs": [],
   "source": [
    "# We previously introduced a common pattern to perform reductions \n",
    "# in Python. It had the following components:\n",
    "\n",
    "def my_sum(nums):\n",
    "\n",
    "    # create accumulator, this was sometimes the first\n",
    "    # item in the iterable or sometimes manually specified:\n",
    "    acc = 0\n",
    "\n",
    "    # loop over the iterator\n",
    "    for n in nums:\n",
    "\n",
    "        # perform some logic which updates the accumulator\n",
    "        # from each element in the iterable\n",
    "        acc += n\n",
    "\n",
    "    # return the accumulator\n",
    "    return acc\n",
    "\n",
    "my_sum([1,2,3])"
   ]
  },
  {
   "cell_type": "code",
   "execution_count": null,
   "metadata": {},
   "outputs": [],
   "source": [
    "# Because there's a clear pattern, we can abstract the component\n",
    "# parts into arguments and wrap it up into a function. That's\n",
    "# what \"reduce\" does:\n",
    "\n",
    "from functools import reduce\n",
    "\n",
    "\n",
    "def summer(acc, nxt):\n",
    "    # logic to update the accumulator\n",
    "    # from each \"nxt\" element in the iterable\n",
    "    return acc + nxt\n",
    "\n",
    "# here we specify \"0\" as the initial value of the accumulator.\n",
    "# note that this is an optional argument, if we want the value \n",
    "# to be the first element of the list, we just leave it off\n",
    "\n",
    "reduce(summer, [1,2,3], 0)"
   ]
  },
  {
   "cell_type": "code",
   "execution_count": null,
   "metadata": {},
   "outputs": [],
   "source": [
    "# Note that we can, of course, combine our map + reduce. \n",
    "# This is a basic pattern we have already done while learning\n",
    "# Python and Pandas:\n",
    "\n",
    "reduce(summer, map(squarer, [1,2,3]))"
   ]
  },
  {
   "cell_type": "markdown",
   "metadata": {},
   "source": [
    "## Map + Reduce\n",
    "\n",
    "Let's practice combining map + reduce in Python. We've done this a lot already, but now we'll practice with our new functions. "
   ]
  },
  {
   "cell_type": "code",
   "execution_count": null,
   "metadata": {
    "autoscroll": false,
    "ein.hycell": false,
    "ein.tags": "worksheet-0",
    "slideshow": {
     "slide_type": "-"
    }
   },
   "outputs": [],
   "source": [
    "import pandas as pd\n",
    "\n",
    "# Everyone's favorite orders data:\n",
    "orders = pd.read_csv('data/orders.csv').to_dict(orient='records')"
   ]
  },
  {
   "cell_type": "code",
   "execution_count": null,
   "metadata": {},
   "outputs": [],
   "source": [
    "# Exercise 1\n",
    "\n",
    "# Get the total sales (the quantity_ordered times the price of each item)\n",
    "# of the company's entire history of sales. \n",
    "\n",
    "# Steps: \n",
    "\n",
    "# 1. How can you formulate this as a map + reduce? \n",
    "\n",
    "# 2. Work backwards. Start with the final reduce. Ask yourself: \"if I had data\n",
    "# in the form of ___, then this would be easy\". Then figure out how to get the\n",
    "# data in the form of ___. Sketch out your solution in comments.\n",
    "\n",
    "# 3. Implement your solution"
   ]
  },
  {
   "cell_type": "code",
   "execution_count": null,
   "metadata": {
    "autoscroll": false,
    "ein.hycell": false,
    "ein.tags": "worksheet-0",
    "slideshow": {
     "slide_type": "-"
    }
   },
   "outputs": [],
   "source": [
    "# Exercise 2\n",
    "\n",
    "# make a \"map\" and a \"reduce\" that gets the max number of items ordered (in a single line item)!"
   ]
  },
  {
   "cell_type": "code",
   "execution_count": null,
   "metadata": {
    "autoscroll": false,
    "ein.hycell": false,
    "ein.tags": "worksheet-0",
    "slideshow": {
     "slide_type": "-"
    }
   },
   "outputs": [],
   "source": [
    "# Sometimes our data comes in JSON and it might be nested!\n",
    "\n",
    "import json\n",
    "\n",
    "with open('data/orders.json') as f:\n",
    "    orders = [json.loads(l) for l in f]\n",
    "\n",
    "orders"
   ]
  },
  {
   "cell_type": "code",
   "execution_count": null,
   "metadata": {},
   "outputs": [],
   "source": [
    "# Exercise 3\n",
    "\n",
    "# Find the sum of the total number of sales, via map+reduce, \n",
    "# with the new, nested format.\n"
   ]
  }
 ],
 "metadata": {
  "kernelspec": {
   "display_name": "Python 3",
   "language": "python",
   "name": "python3"
  },
  "language_info": {
   "codemirror_mode": {
    "name": "ipython",
    "version": 3
   },
   "file_extension": ".py",
   "mimetype": "text/x-python",
   "name": "python",
   "nbconvert_exporter": "python",
   "pygments_lexer": "ipython3",
   "version": "3.8.6"
  },
  "name": "mapreduce.ipynb"
 },
 "nbformat": 4,
 "nbformat_minor": 2
}
